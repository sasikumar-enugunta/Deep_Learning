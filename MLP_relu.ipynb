{
 "cells": [
  {
   "cell_type": "code",
   "execution_count": 1,
   "metadata": {},
   "outputs": [
    {
     "name": "stdout",
     "output_type": "stream",
     "text": [
      "Extracting MNIST_data/train-images-idx3-ubyte.gz\n",
      "Extracting MNIST_data/train-labels-idx1-ubyte.gz\n",
      "Extracting MNIST_data/t10k-images-idx3-ubyte.gz\n",
      "Extracting MNIST_data/t10k-labels-idx1-ubyte.gz\n"
     ]
    }
   ],
   "source": [
    "from tensorflow.examples.tutorials.mnist import input_data\n",
    "import tensorflow as tf\n",
    "mnist = input_data.read_data_sets(\"MNIST_data/\", one_hot=True)"
   ]
  },
  {
   "cell_type": "code",
   "execution_count": 2,
   "metadata": {},
   "outputs": [],
   "source": [
    "#plot\n",
    "import matplotlib.pyplot as plt\n",
    "import numpy as np\n",
    "import time\n",
    "\n",
    "def plt_dynamic(x, y_1, y_2, ax, ticks,title, colors=['b']):\n",
    "    ax.plot(x, y_1, 'b', label=\"Train Loss\")\n",
    "    ax.plot(x, y_2, 'r', label=\"Test Loss\")\n",
    "    if len(x)==1:\n",
    "        plt.legend()\n",
    "        plt.title(title)\n",
    "    plt.yticks(ticks)\n",
    "    fig.canvas.draw()"
   ]
  },
  {
   "cell_type": "code",
   "execution_count": 3,
   "metadata": {},
   "outputs": [],
   "source": [
    "#Parameters\n",
    "hidden_layer_1 = 512 # 1st layer number of neurons\n",
    "hidden_layer_2 = 256 # 2nd layer number of neurons\n",
    "hidden_layer_3 = 128 # 3rd layer number of neurons\n",
    "hidden_layer_4 = 56 # 4th layer number of neurons\n",
    "input_class = 784 # MNIST data input (img shape: 28*28)\n",
    "output_class = 10 # MNIST total classes (0-9 digits)"
   ]
  },
  {
   "cell_type": "code",
   "execution_count": 4,
   "metadata": {},
   "outputs": [],
   "source": [
    "x = tf.placeholder(tf.float32, [None, 784]) #input placeholder\n",
    "y_ = tf.placeholder(tf.float32, [None, 10]) #output placeholder\n",
    "\n",
    "keep_prob = tf.placeholder(tf.float32) #dropout"
   ]
  },
  {
   "cell_type": "code",
   "execution_count": 8,
   "metadata": {},
   "outputs": [],
   "source": [
    "#weights\n",
    "weights = {\n",
    "    'h1': tf.Variable(tf.random_normal([input_class, hidden_layer_1],stddev=0.062, mean=0)),        #784x512\n",
    "    'h2': tf.Variable(tf.random_normal([hidden_layer_1, hidden_layer_2],stddev=0.088, mean=0)), #512x256\n",
    "    'h3': tf.Variable(tf.random_normal([hidden_layer_2, hidden_layer_3],stddev=0.125, mean=0)), #256x128\n",
    "    'h4': tf.Variable(tf.random_normal([hidden_layer_3, hidden_layer_4],stddev=0.187, mean=0)), #128x56\n",
    "    'out': tf.Variable(tf.random_normal([hidden_layer_4, output_class],stddev=0.172, mean=0))      #56x10\n",
    "}\n",
    "\n",
    "#bias\n",
    "biases = {\n",
    "    'b1': tf.Variable(tf.random_normal([hidden_layer_1])),             #512x1\n",
    "    'b2': tf.Variable(tf.random_normal([hidden_layer_2])),             #256x1\n",
    "    'b3': tf.Variable(tf.random_normal([hidden_layer_3])),             #128x1\n",
    "    'b4': tf.Variable(tf.random_normal([hidden_layer_4])),             #56x1\n",
    "    'out': tf.Variable(tf.random_normal([output_class]))                  #10x1\n",
    "}"
   ]
  },
  {
   "cell_type": "code",
   "execution_count": 11,
   "metadata": {},
   "outputs": [],
   "source": [
    "epsilon = 1e-3\n",
    "training_epochs = 10\n",
    "learning_rate = 0.001\n",
    "batch_size = 100\n",
    "display_step = 1\n",
    "\n",
    "# Create model\n",
    "def multilayer_perceptron_dropout(x, weights, biases):\n",
    "    \n",
    "    layer_1 = tf.add(tf.matmul(x, weights['h1']), biases['b1']) # Hidden layer with ReLu activation\n",
    "    batch_mean_1, batch_var_1 = tf.nn.moments(layer_1,[0]) # Calculate the mean and variance of x.\n",
    "    scale_1 = tf.Variable(tf.ones([hidden_layer_1]))\n",
    "    beta_1 = tf.Variable(tf.zeros([hidden_layer_1]))\n",
    "    \n",
    "    layer_1 = tf.nn.batch_normalization(layer_1, batch_mean_1, batch_var_1, beta_1, scale_1, epsilon) #BatchNormalization\n",
    "    layer_1 = tf.nn.relu(layer_1) #ReLu activation\n",
    "    layer_1_drop = tf.nn.dropout(layer_1, keep_prob) #dropout\n",
    "    \n",
    "    layer_2 = tf.add(tf.matmul(layer_1_drop, weights['h2']), biases['b2']) # Hidden layer with ReLu activation\n",
    "    batch_mean_2, batch_var_2 = tf.nn.moments(layer_2,[0]) # Calculate the mean and variance of x.\n",
    "    scale_2 = tf.Variable(tf.ones([hidden_layer_2]))\n",
    "    beta_2 = tf.Variable(tf.zeros([hidden_layer_2]))\n",
    "    \n",
    "    layer_2 = tf.nn.batch_normalization(layer_2, batch_mean_2, batch_var_2, beta_2, scale_2, epsilon)\n",
    "    layer_2 = tf.nn.relu(layer_2)\n",
    "    layer_2_drop = tf.nn.dropout(layer_2, keep_prob)\n",
    "    \n",
    "    layer_3 = tf.add(tf.matmul(layer_2_drop, weights['h3']), biases['b3']) \n",
    "    batch_mean_3, batch_var_3 = tf.nn.moments(layer_3,[0])\n",
    "    scale_3 = tf.Variable(tf.ones([hidden_layer_3]))\n",
    "    beta_3 = tf.Variable(tf.zeros([hidden_layer_3]))\n",
    "    \n",
    "    layer_3 = tf.nn.batch_normalization(layer_3, batch_mean_3, batch_var_3, beta_3, scale_3, epsilon)\n",
    "    layer_3 = tf.nn.relu(layer_3)\n",
    "    layer_3_drop = tf.nn.dropout(layer_3, keep_prob)\n",
    "    \n",
    "    layer_4 = tf.add(tf.matmul(layer_3_drop, weights['h4']), biases['b4']) \n",
    "    batch_mean_4, batch_var_4 = tf.nn.moments(layer_4,[0])\n",
    "    scale_4 = tf.Variable(tf.ones([hidden_layer_4]))\n",
    "    beta_4 = tf.Variable(tf.zeros([hidden_layer_4]))\n",
    "    \n",
    "    layer_4 = tf.nn.batch_normalization(layer_4, batch_mean_4, batch_var_4, beta_4, scale_4, epsilon)\n",
    "    layer_4 = tf.nn.relu(layer_4)\n",
    "    layer_4_drop = tf.nn.dropout(layer_4, keep_prob)\n",
    "    \n",
    "    # Output layer with Sigmoid activation\n",
    "    out_layer = tf.matmul(layer_4_drop, weights['out']) + biases['out'] \n",
    "    out_layer = tf.nn.sigmoid(out_layer)\n",
    "    \n",
    "    return out_layer"
   ]
  },
  {
   "cell_type": "code",
   "execution_count": 12,
   "metadata": {},
   "outputs": [
    {
     "name": "stdout",
     "output_type": "stream",
     "text": [
      "Epoch: 0001 train cost=1.852387015 test cost=1.721993961\n",
      "Epoch: 0002 train cost=1.624475372 test cost=1.556165109\n",
      "Epoch: 0003 train cost=1.580085707 test cost=1.523266523\n",
      "Epoch: 0004 train cost=1.550704152 test cost=1.496722353\n",
      "Epoch: 0005 train cost=1.535442507 test cost=1.491262910\n",
      "Epoch: 0006 train cost=1.524927568 test cost=1.487699632\n",
      "Epoch: 0007 train cost=1.519252183 test cost=1.485829424\n",
      "Epoch: 0008 train cost=1.514755696 test cost=1.484009803\n",
      "Epoch: 0009 train cost=1.509799231 test cost=1.482679310\n",
      "Epoch: 0010 train cost=1.507130619 test cost=1.482093251\n",
      "Accuracy: 0.9748\n"
     ]
    },
    {
     "data": {
      "image/png": "[encoded data removed]",
      "text/plain": [
       "<Figure size 432x288 with 1 Axes>"
      ]
     },
     "metadata": {},
     "output_type": "display_data"
    }
   ],
   "source": [
    "y = multilayer_perceptron_dropout(x, weights_relu, biases)\n",
    "cost_drop = tf.reduce_mean(tf.nn.softmax_cross_entropy_with_logits(logits = y, labels = y_))\n",
    "adam_optimizer = tf.train.AdamOptimizer(learning_rate=learning_rate).minimize(cost_drop)\n",
    "\n",
    "with tf.Session() as sess:\n",
    "    tf.global_variables_initializer().run()\n",
    "    fig,ax = plt.subplots(1,1)\n",
    "    ax.set_xlabel('epoch') ; ax.set_ylabel('Soft Max Cross Entropy loss')\n",
    "    xs, ytrs, ytes = [], [], []\n",
    "    for epoch in range(training_epochs):\n",
    "        train_avg_cost = 0.\n",
    "        test_avg_cost = 0.\n",
    "        total_batch = int(mnist.train.num_examples/batch_size)\n",
    "\n",
    "        for i in range(total_batch):\n",
    "            batch_xs, batch_ys = mnist.train.next_batch(batch_size)\n",
    "            \n",
    "            # using AdamOptimizer\n",
    "            _, c, w = sess.run([adam_optimizer, cost_drop, weights], feed_dict={x: batch_xs, y_: batch_ys, keep_prob: 0.5})\n",
    "            train_avg_cost += c / total_batch\n",
    "            c = sess.run(cost_drop, feed_dict={x: mnist.test.images, y_: mnist.test.labels,  keep_prob: 1.0})\n",
    "            test_avg_cost += c / total_batch\n",
    "\n",
    "        xs.append(epoch)\n",
    "        ytrs.append(train_avg_cost)\n",
    "        ytes.append(test_avg_cost)\n",
    "        plt_dynamic(xs, ytrs, ytes, ax,np.arange(1, 1.8, step=0.05), \"input-ReLu(512)-Dropout-ReLu(256)-Dropout-ReLu(128)-Dropout-ReLu(56)-Dropout-Sigmoid(output)-AdamOptimizer\")\n",
    "\n",
    "        if epoch%display_step == 0:\n",
    "            print(\"Epoch:\", '%04d' % (epoch+1), \"train cost={:.9f}\".format(train_avg_cost), \"test cost={:.9f}\".format(test_avg_cost))\n",
    "\n",
    "    # plot final results\n",
    "    plt_dynamic(xs, ytrs, ytes, ax,np.arange(1, 1.8, step=0.05), \"input-ReLu(512)-Dropout-ReLu(256)-Dropout-ReLu(128)-Dropout-ReLu(56)-Dropout-Sigmoid(output)-AdamOptimizer\")\n",
    "\n",
    "    # we are calculating the final accuracy on the test data\n",
    "    correct_prediction = tf.equal(tf.argmax(y,1), tf.argmax(y_,1))\n",
    "    accuracy = tf.reduce_mean(tf.cast(correct_prediction, tf.float32))\n",
    "    print(\"Accuracy:\", accuracy.eval({x: mnist.test.images, y_: mnist.test.labels, keep_prob: 1.0 }))"
   ]
  },
  {
   "cell_type": "code",
   "execution_count": null,
   "metadata": {},
   "outputs": [],
   "source": []
  }
 ],
 "metadata": {
  "kernelspec": {
   "display_name": "Python 3",
   "language": "python",
   "name": "python3"
  },
  "language_info": {
   "codemirror_mode": {
    "name": "ipython",
    "version": 3
   },
   "file_extension": ".py",
   "mimetype": "text/x-python",
   "name": "python",
   "nbconvert_exporter": "python",
   "pygments_lexer": "ipython3",
   "version": "3.6.5"
  }
 },
 "nbformat": 4,
 "nbformat_minor": 2
}
