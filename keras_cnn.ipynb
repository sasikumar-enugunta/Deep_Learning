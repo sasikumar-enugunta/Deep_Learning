{
  "nbformat": 4,
  "nbformat_minor": 0,
  "metadata": {
    "colab": {
      "name": "keras_cnn.ipynb",
      "provenance": [],
      "include_colab_link": true
    },
    "kernelspec": {
      "name": "python3",
      "display_name": "Python 3"
    }
  },
  "cells": [
    {
      "cell_type": "markdown",
      "metadata": {
        "id": "view-in-github",
        "colab_type": "text"
      },
      "source": [
        "<a href=\"https://colab.research.google.com/github/sresasi/Deep_Learning/blob/master/keras_cnn.ipynb\" target=\"_parent\"><img src=\"https://colab.research.google.com/assets/colab-badge.svg\" alt=\"Open In Colab\"/></a>"
      ]
    },
    {
      "cell_type": "code",
      "metadata": {
        "id": "0yLVv-UC5z3P",
        "colab_type": "code",
        "colab": {
          "base_uri": "https://localhost:8080/",
          "height": 1000
        },
        "outputId": "8bdee3ed-10e8-49fb-b444-db992f48464b"
      },
      "source": [
        "from keras.utils import np_utils \n",
        "from keras.datasets import mnist \n",
        "import seaborn as sns\n",
        "from keras.initializers import RandomNormal\n",
        "\n",
        "import matplotlib.pyplot as plt\n",
        "import numpy as np\n",
        "import time\n",
        "\n",
        "def plt_dynamic(x, vy, ty, ax, colors=['b']):\n",
        "    ax.plot(x, vy, 'b', label=\"Validation Loss\")\n",
        "    ax.plot(x, ty, 'r', label=\"Train Loss\")\n",
        "    plt.legend()\n",
        "    plt.grid()\n",
        "    fig.canvas.draw()\n",
        "    \n",
        "(X_train, y_train), (X_test, y_test) = mnist.load_data()\n",
        "\n",
        "X_train = X_train.reshape(X_train.shape[0], X_train.shape[1]*X_train.shape[2]) \n",
        "X_test = X_test.reshape(X_test.shape[0], X_test.shape[1]*X_test.shape[2]) \n",
        "\n",
        "X_train = X_train/255\n",
        "X_test = X_test/255\n",
        "\n",
        "Y_train = np_utils.to_categorical(y_train, 10) \n",
        "Y_test = np_utils.to_categorical(y_test, 10)\n",
        "\n",
        "output_dim = 10\n",
        "input_dim = X_train.shape[1]\n",
        "\n",
        "batch_size = 128 \n",
        "nb_epoch = 20\n",
        "\n",
        "\n",
        "from keras.models import Sequential \n",
        "from keras.layers import Dense, Activation \n",
        "\n",
        "model_relu = Sequential()\n",
        "model_relu.add(Dense(512, activation='relu', input_shape=(input_dim,), kernel_initializer=RandomNormal(mean=0.0, stddev=0.062, seed=None)))\n",
        "model_relu.add(Dense(128, activation='relu', kernel_initializer=RandomNormal(mean=0.0, stddev=0.125, seed=None)) )\n",
        "model_relu.add(Dense(output_dim, activation='softmax'))\n",
        "\n",
        "model_relu.summary()\n",
        "\n",
        "\n",
        "model_relu.compile(optimizer='sgd', loss='categorical_crossentropy', metrics=['accuracy'])\n",
        "\n",
        "history = model_relu.fit(X_train, Y_train, batch_size=batch_size, epochs=nb_epoch, verbose=1, validation_data=(X_test, Y_test))\n",
        "\n",
        "\n",
        "score = model_relu.evaluate(X_test, Y_test, verbose=0) \n",
        "print('Test score:', score[0]) \n",
        "print('Test accuracy:', score[1])\n",
        "\n",
        "fig,ax = plt.subplots(1,1)\n",
        "ax.set_xlabel('epoch') ; ax.set_ylabel('Categorical Crossentropy Loss')\n",
        "\n",
        "# list of epoch numbers\n",
        "x = list(range(1,nb_epoch+1))\n",
        "\n",
        "# print(history.history.keys())\n",
        "# dict_keys(['val_loss', 'val_acc', 'loss', 'acc'])\n",
        "# history = model_drop.fit(X_train, Y_train, batch_size=batch_size, epochs=nb_epoch, verbose=1, validation_data=(X_test, Y_test))\n",
        "\n",
        "# we will get val_loss and val_acc only when you pass the paramter validation_data\n",
        "# val_loss : validation loss\n",
        "# val_acc : validation accuracy\n",
        "\n",
        "# loss : training loss\n",
        "# acc : train accuracy\n",
        "# for each key in histrory.histrory we will have a list of length equal to number of epochs\n",
        "\n",
        "vy = history.history['val_loss']\n",
        "ty = history.history['loss']\n",
        "plt_dynamic(x, vy, ty, ax)"
      ],
      "execution_count": 2,
      "outputs": [
        {
          "output_type": "stream",
          "text": [
            "Model: \"sequential_2\"\n",
            "_________________________________________________________________\n",
            "Layer (type)                 Output Shape              Param #   \n",
            "=================================================================\n",
            "dense_4 (Dense)              (None, 512)               401920    \n",
            "_________________________________________________________________\n",
            "dense_5 (Dense)              (None, 128)               65664     \n",
            "_________________________________________________________________\n",
            "dense_6 (Dense)              (None, 10)                1290      \n",
            "=================================================================\n",
            "Total params: 468,874\n",
            "Trainable params: 468,874\n",
            "Non-trainable params: 0\n",
            "_________________________________________________________________\n",
            "Train on 60000 samples, validate on 10000 samples\n",
            "Epoch 1/20\n",
            "60000/60000 [==============================] - 5s 81us/step - loss: 0.7510 - acc: 0.7889 - val_loss: 0.3878 - val_acc: 0.8921\n",
            "Epoch 2/20\n",
            "60000/60000 [==============================] - 5s 77us/step - loss: 0.3514 - acc: 0.9003 - val_loss: 0.2997 - val_acc: 0.9153\n",
            "Epoch 3/20\n",
            "60000/60000 [==============================] - 5s 76us/step - loss: 0.2898 - acc: 0.9173 - val_loss: 0.2610 - val_acc: 0.9264\n",
            "Epoch 4/20\n",
            "60000/60000 [==============================] - 5s 77us/step - loss: 0.2558 - acc: 0.9268 - val_loss: 0.2353 - val_acc: 0.9341\n",
            "Epoch 5/20\n",
            "60000/60000 [==============================] - 5s 76us/step - loss: 0.2326 - acc: 0.9336 - val_loss: 0.2192 - val_acc: 0.9380\n",
            "Epoch 6/20\n",
            "60000/60000 [==============================] - 5s 77us/step - loss: 0.2142 - acc: 0.9394 - val_loss: 0.2034 - val_acc: 0.9433\n",
            "Epoch 7/20\n",
            "60000/60000 [==============================] - 5s 77us/step - loss: 0.1996 - acc: 0.9436 - val_loss: 0.1925 - val_acc: 0.9448\n",
            "Epoch 8/20\n",
            "60000/60000 [==============================] - 5s 78us/step - loss: 0.1870 - acc: 0.9469 - val_loss: 0.1813 - val_acc: 0.9479\n",
            "Epoch 9/20\n",
            "60000/60000 [==============================] - 5s 80us/step - loss: 0.1764 - acc: 0.9502 - val_loss: 0.1741 - val_acc: 0.9506\n",
            "Epoch 10/20\n",
            "60000/60000 [==============================] - 5s 81us/step - loss: 0.1667 - acc: 0.9522 - val_loss: 0.1670 - val_acc: 0.9526\n",
            "Epoch 11/20\n",
            "60000/60000 [==============================] - 5s 79us/step - loss: 0.1579 - acc: 0.9554 - val_loss: 0.1598 - val_acc: 0.9543\n",
            "Epoch 12/20\n",
            "60000/60000 [==============================] - 5s 78us/step - loss: 0.1506 - acc: 0.9576 - val_loss: 0.1556 - val_acc: 0.9546\n",
            "Epoch 13/20\n",
            "60000/60000 [==============================] - 5s 78us/step - loss: 0.1437 - acc: 0.9601 - val_loss: 0.1481 - val_acc: 0.9571\n",
            "Epoch 14/20\n",
            "60000/60000 [==============================] - 5s 79us/step - loss: 0.1376 - acc: 0.9611 - val_loss: 0.1444 - val_acc: 0.9588\n",
            "Epoch 15/20\n",
            "60000/60000 [==============================] - 5s 76us/step - loss: 0.1317 - acc: 0.9633 - val_loss: 0.1402 - val_acc: 0.9599\n",
            "Epoch 16/20\n",
            "60000/60000 [==============================] - 5s 77us/step - loss: 0.1265 - acc: 0.9648 - val_loss: 0.1366 - val_acc: 0.9609\n",
            "Epoch 17/20\n",
            "60000/60000 [==============================] - 5s 79us/step - loss: 0.1217 - acc: 0.9661 - val_loss: 0.1326 - val_acc: 0.9624\n",
            "Epoch 18/20\n",
            "60000/60000 [==============================] - 5s 80us/step - loss: 0.1170 - acc: 0.9675 - val_loss: 0.1301 - val_acc: 0.9623\n",
            "Epoch 19/20\n",
            "60000/60000 [==============================] - 5s 78us/step - loss: 0.1127 - acc: 0.9685 - val_loss: 0.1267 - val_acc: 0.9628\n",
            "Epoch 20/20\n",
            "60000/60000 [==============================] - 5s 78us/step - loss: 0.1087 - acc: 0.9699 - val_loss: 0.1244 - val_acc: 0.9640\n",
            "Test score: 0.12443535248227418\n",
            "Test accuracy: 0.964\n"
          ],
          "name": "stdout"
        },
        {
          "output_type": "display_data",
          "data": {
            "image/png": "[encoded data removed]",
            "text/plain": [
              "<Figure size 432x288 with 1 Axes>"
            ]
          },
          "metadata": {
            "tags": []
          }
        }
      ]
    }
  ]
}